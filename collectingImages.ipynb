{
 "cells": [
  {
   "cell_type": "code",
   "execution_count": 3,
   "id": "1655da2e",
   "metadata": {},
   "outputs": [],
   "source": [
    "# Import opencv\n",
    "import cv2 \n",
    "\n",
    "# Import uuid\n",
    "import uuid\n",
    "\n",
    "# Import Operating System\n",
    "import os\n",
    "\n",
    "# Import time\n",
    "import time"
   ]
  },
  {
   "cell_type": "code",
   "execution_count": 2,
   "id": "eb92971d",
   "metadata": {},
   "outputs": [
    {
     "name": "stdout",
     "output_type": "stream",
     "text": [
      "Collecting opencv-python\n",
      "  Using cached opencv_python-4.5.5.64-cp36-abi3-win_amd64.whl (35.4 MB)\n",
      "Requirement already satisfied: numpy>=1.19.3 in c:\\users\\aswin\\appdata\\local\\programs\\python\\python310\\lib\\site-packages (from opencv-python) (1.22.3)\n",
      "Installing collected packages: opencv-python\n",
      "Successfully installed opencv-python-4.5.5.64\n",
      "Note: you may need to restart the kernel to use updated packages.\n"
     ]
    }
   ],
   "source": [
    "pip install opencv-python"
   ]
  },
  {
   "cell_type": "code",
   "execution_count": 4,
   "id": "25043aa8",
   "metadata": {},
   "outputs": [],
   "source": [
    "IMAGES_PATH = 'Tensorflow/workspace/images/collectedimages'"
   ]
  },
  {
   "cell_type": "code",
   "execution_count": 5,
   "id": "35216b2a",
   "metadata": {},
   "outputs": [],
   "source": [
    "labels = ['hello', 'thanks', 'iloveyou', 'yes', 'no']\n",
    "number_imgs = 10"
   ]
  },
  {
   "cell_type": "code",
   "execution_count": 7,
   "id": "832b9b2c",
   "metadata": {},
   "outputs": [
    {
     "name": "stderr",
     "output_type": "stream",
     "text": [
      "A subdirectory or file Tensorflow\\workspace\\images\\collectedimages\\hello already exists.\n"
     ]
    },
    {
     "name": "stdout",
     "output_type": "stream",
     "text": [
      "Collecting images for hello\n",
      "Collecting image Tensorflow/workspace/images/collectedimages\\hello\\hello.d147abaf-d2c9-11ec-85e1-fc017c275ed0.jpg\n",
      "Collecting image Tensorflow/workspace/images/collectedimages\\hello\\hello.d33c323a-d2c9-11ec-860e-fc017c275ed0.jpg\n",
      "Collecting image Tensorflow/workspace/images/collectedimages\\hello\\hello.d47160cc-d2c9-11ec-a275-fc017c275ed0.jpg\n",
      "Collecting image Tensorflow/workspace/images/collectedimages\\hello\\hello.d5a6d262-d2c9-11ec-a07e-fc017c275ed0.jpg\n",
      "Collecting image Tensorflow/workspace/images/collectedimages\\hello\\hello.d6da9259-d2c9-11ec-ba0c-fc017c275ed0.jpg\n",
      "Collecting image Tensorflow/workspace/images/collectedimages\\hello\\hello.d80f2aae-d2c9-11ec-b270-fc017c275ed0.jpg\n",
      "Collecting image Tensorflow/workspace/images/collectedimages\\hello\\hello.d9459a6c-d2c9-11ec-88c1-fc017c275ed0.jpg\n",
      "Collecting image Tensorflow/workspace/images/collectedimages\\hello\\hello.da7b77d3-d2c9-11ec-ac4f-fc017c275ed0.jpg\n",
      "Collecting image Tensorflow/workspace/images/collectedimages\\hello\\hello.dbb293a5-d2c9-11ec-a28f-fc017c275ed0.jpg\n",
      "Collecting image Tensorflow/workspace/images/collectedimages\\hello\\hello.dce8cfbb-d2c9-11ec-ad54-fc017c275ed0.jpg\n",
      "Collecting images for thanks\n",
      "Collecting image Tensorflow/workspace/images/collectedimages\\thanks\\thanks.e21998ee-d2c9-11ec-be01-fc017c275ed0.jpg\n",
      "Collecting image Tensorflow/workspace/images/collectedimages\\thanks\\thanks.e3c68729-d2c9-11ec-8f14-fc017c275ed0.jpg\n",
      "Collecting image Tensorflow/workspace/images/collectedimages\\thanks\\thanks.e4fc7e7c-d2c9-11ec-956b-fc017c275ed0.jpg\n",
      "Collecting image Tensorflow/workspace/images/collectedimages\\thanks\\thanks.e6374246-d2c9-11ec-bd50-fc017c275ed0.jpg\n",
      "Collecting image Tensorflow/workspace/images/collectedimages\\thanks\\thanks.e76e588b-d2c9-11ec-9700-fc017c275ed0.jpg\n",
      "Collecting image Tensorflow/workspace/images/collectedimages\\thanks\\thanks.e8a4c451-d2c9-11ec-9003-fc017c275ed0.jpg\n",
      "Collecting image Tensorflow/workspace/images/collectedimages\\thanks\\thanks.e9da2558-d2c9-11ec-94f4-fc017c275ed0.jpg\n",
      "Collecting image Tensorflow/workspace/images/collectedimages\\thanks\\thanks.eb10756d-d2c9-11ec-8b30-fc017c275ed0.jpg\n",
      "Collecting image Tensorflow/workspace/images/collectedimages\\thanks\\thanks.ec478307-d2c9-11ec-ada6-fc017c275ed0.jpg\n",
      "Collecting image Tensorflow/workspace/images/collectedimages\\thanks\\thanks.ed7df1ef-d2c9-11ec-a3b9-fc017c275ed0.jpg\n",
      "Collecting images for iloveyou\n",
      "Collecting image Tensorflow/workspace/images/collectedimages\\iloveyou\\iloveyou.f295b73f-d2c9-11ec-9e35-fc017c275ed0.jpg\n",
      "Collecting image Tensorflow/workspace/images/collectedimages\\iloveyou\\iloveyou.f43ba256-d2c9-11ec-bf0a-fc017c275ed0.jpg\n",
      "Collecting image Tensorflow/workspace/images/collectedimages\\iloveyou\\iloveyou.f574db6c-d2c9-11ec-9829-fc017c275ed0.jpg\n",
      "Collecting image Tensorflow/workspace/images/collectedimages\\iloveyou\\iloveyou.f6aec200-d2c9-11ec-83c0-fc017c275ed0.jpg\n",
      "Collecting image Tensorflow/workspace/images/collectedimages\\iloveyou\\iloveyou.f7e4e662-d2c9-11ec-ac79-fc017c275ed0.jpg\n",
      "Collecting image Tensorflow/workspace/images/collectedimages\\iloveyou\\iloveyou.f91cde80-d2c9-11ec-8f9c-fc017c275ed0.jpg\n",
      "Collecting image Tensorflow/workspace/images/collectedimages\\iloveyou\\iloveyou.fa5782c2-d2c9-11ec-8aa7-fc017c275ed0.jpg\n",
      "Collecting image Tensorflow/workspace/images/collectedimages\\iloveyou\\iloveyou.fb8e02aa-d2c9-11ec-834a-fc017c275ed0.jpg\n",
      "Collecting image Tensorflow/workspace/images/collectedimages\\iloveyou\\iloveyou.fccacd55-d2c9-11ec-a2e3-fc017c275ed0.jpg\n",
      "Collecting image Tensorflow/workspace/images/collectedimages\\iloveyou\\iloveyou.fe01944a-d2c9-11ec-b2ec-fc017c275ed0.jpg\n",
      "Collecting images for yes\n",
      "Collecting image Tensorflow/workspace/images/collectedimages\\yes\\yes.03190889-d2ca-11ec-8e24-fc017c275ed0.jpg\n",
      "Collecting image Tensorflow/workspace/images/collectedimages\\yes\\yes.04c53b2a-d2ca-11ec-8fcc-fc017c275ed0.jpg\n",
      "Collecting image Tensorflow/workspace/images/collectedimages\\yes\\yes.05fb8ef8-d2ca-11ec-93f6-fc017c275ed0.jpg\n",
      "Collecting image Tensorflow/workspace/images/collectedimages\\yes\\yes.0736acd8-d2ca-11ec-90b5-fc017c275ed0.jpg\n",
      "Collecting image Tensorflow/workspace/images/collectedimages\\yes\\yes.086f9dc3-d2ca-11ec-9ed9-fc017c275ed0.jpg\n",
      "Collecting image Tensorflow/workspace/images/collectedimages\\yes\\yes.09a860a9-d2ca-11ec-85e3-fc017c275ed0.jpg\n",
      "Collecting image Tensorflow/workspace/images/collectedimages\\yes\\yes.0ade9a58-d2ca-11ec-a2cf-fc017c275ed0.jpg\n",
      "Collecting image Tensorflow/workspace/images/collectedimages\\yes\\yes.0c16fa3c-d2ca-11ec-af2d-fc017c275ed0.jpg\n",
      "Collecting image Tensorflow/workspace/images/collectedimages\\yes\\yes.0d4d55f4-d2ca-11ec-b47d-fc017c275ed0.jpg\n",
      "Collecting image Tensorflow/workspace/images/collectedimages\\yes\\yes.0e86342a-d2ca-11ec-bc5f-fc017c275ed0.jpg\n",
      "Collecting images for no\n",
      "Collecting image Tensorflow/workspace/images/collectedimages\\no\\no.139eedc3-d2ca-11ec-8499-fc017c275ed0.jpg\n",
      "Collecting image Tensorflow/workspace/images/collectedimages\\no\\no.154b5cf7-d2ca-11ec-9104-fc017c275ed0.jpg\n",
      "Collecting image Tensorflow/workspace/images/collectedimages\\no\\no.16851a4b-d2ca-11ec-8d25-fc017c275ed0.jpg\n",
      "Collecting image Tensorflow/workspace/images/collectedimages\\no\\no.17bb46a9-d2ca-11ec-aa63-fc017c275ed0.jpg\n",
      "Collecting image Tensorflow/workspace/images/collectedimages\\no\\no.18f1d9ff-d2ca-11ec-835e-fc017c275ed0.jpg\n",
      "Collecting image Tensorflow/workspace/images/collectedimages\\no\\no.1a287e98-d2ca-11ec-9ff9-fc017c275ed0.jpg\n",
      "Collecting image Tensorflow/workspace/images/collectedimages\\no\\no.1b5f40c6-d2ca-11ec-91fb-fc017c275ed0.jpg\n",
      "Collecting image Tensorflow/workspace/images/collectedimages\\no\\no.1c977214-d2ca-11ec-80b6-fc017c275ed0.jpg\n",
      "Collecting image Tensorflow/workspace/images/collectedimages\\no\\no.1dce552a-d2ca-11ec-b667-fc017c275ed0.jpg\n",
      "Collecting image Tensorflow/workspace/images/collectedimages\\no\\no.1f04214c-d2ca-11ec-b5f7-fc017c275ed0.jpg\n"
     ]
    }
   ],
   "source": [
    "for label in labels:\n",
    "    !mkdir {'Tensorflow\\workspace\\images\\collectedimages\\\\'+label}\n",
    "    cap = cv2.VideoCapture(0)\n",
    "    print('Collecting images for {}'.format(label))\n",
    "    time.sleep(5)\n",
    "    for imgnum in range(10): \n",
    "        \n",
    "        imgname = os.path.join(IMAGES_PATH,label,label+'.'+'{}.jpg'.format(str(uuid.uuid1())))\n",
    "        print('Collecting image {}'.format(imgname))\n",
    "        ret, frame = cap.read()\n",
    "        cv2.imwrite(imgname, frame)\n",
    "        cv2.imshow('frame', frame)\n",
    "        time.sleep(2)\n",
    "\n",
    "        if cv2.waitKey(1) & 0xFF == ord('q'):\n",
    "            break\n",
    "    cap.release()"
   ]
  },
  {
   "cell_type": "code",
   "execution_count": null,
   "id": "ff328372",
   "metadata": {},
   "outputs": [],
   "source": []
  }
 ],
 "metadata": {
  "kernelspec": {
   "display_name": "Python 3 (ipykernel)",
   "language": "python",
   "name": "python3"
  },
  "language_info": {
   "codemirror_mode": {
    "name": "ipython",
    "version": 3
   },
   "file_extension": ".py",
   "mimetype": "text/x-python",
   "name": "python",
   "nbconvert_exporter": "python",
   "pygments_lexer": "ipython3",
   "version": "3.10.4"
  }
 },
 "nbformat": 4,
 "nbformat_minor": 5
}
